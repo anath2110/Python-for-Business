{
  "nbformat": 4,
  "nbformat_minor": 0,
  "metadata": {
    "colab": {
      "name": "GradedProjectSol",
      "provenance": [],
      "collapsed_sections": []
    },
    "kernelspec": {
      "name": "python3",
      "display_name": "Python 3"
    },
    "language_info": {
      "name": "python"
    }
  },
  "cells": [
    {
      "cell_type": "markdown",
      "metadata": {
        "id": "o3bd5ZR1k9Ba"
      },
      "source": [
        "### Course: Python Intro for Business\n",
        "### Location: Online(TEAMS)\n",
        "\n",
        "> Author/Instructor: Anindita Nath\n",
        "<br> TA:  Elena G Valenzuela \n",
        "<br>Date: 12.06.2021\n"
      ]
    },
    {
      "cell_type": "markdown",
      "metadata": {
        "id": "3PRK9K8BWJLK"
      },
      "source": [
        "# **Playing with 'Strings'**"
      ]
    },
    {
      "cell_type": "markdown",
      "metadata": {
        "id": "4tiXoMAnWUm1"
      },
      "source": [
        "## Project: Tell A Story\n",
        "### Points: 25\n",
        "<br> This is a very interesting beginner-level project of Python. It is a random story generator. \n",
        "<br> The random story generator project aims to generate random stories every time an user executes the code. \n",
        "<br>A story is made up of a collection of sentences. You will first have to choose random phrases to build sentences, and hence stories. \n",
        "<br><br> **Useful Tips:**\n",
        "\n",
        "> First, put the elements of the story in different lists.\n",
        "<br> Next, use the random module to select random parts of the story collected in different lists.\n",
        "<br> And then concatenate these lists to make a story.\n",
        "\n",
        "*There a many different ways of accomplishing the purpose of this project, the above shows one of the very basic approaches.*\n",
        "\n",
        "<br> *Hint: Use random.choice() function.* "
      ]
    },
    {
      "cell_type": "markdown",
      "metadata": {
        "id": "-zP35dP6Xh1w"
      },
      "source": [
        "### Solution:\n",
        "<br> Following are the steps involved :\n",
        "\n",
        "1. Import the random module, as it is a built-in module of python.  So, there’s no need to install it manually.\n",
        "2.  Define several lists of phrases. Here, we have defined eight lists. We can define more also, it depends totally on our choice.\n",
        "\n",
        "\n",
        "\n",
        "> **Sentence_starter**– This list gives an idea about the time of the event.\n",
        "\n",
        "\n",
        "> **character**– This list tells about the main character of this story.\n",
        "\n",
        "> **time** – This list defines the exact day on which some incident has occurred.\n",
        "\n",
        "\n",
        "> **story_plot** – This list defines the plot of the story.\n",
        "\n",
        "> **place** – This list defines the place at which the incident occurred.\n",
        "\n",
        "\n",
        "> **second_character** – This list defines the second character of the story.\n",
        "\n",
        "> **age** – This list defines the age of the second character.\n",
        "\n",
        "> **work** – This list tells about the work the second character was doing.\n",
        "\n",
        "3. With the help of random.choice(), select an item from each list and concatenate the selected items to generate sentences for the story."
      ]
    },
    {
      "cell_type": "code",
      "metadata": {
        "colab": {
          "base_uri": "https://localhost:8080/"
        },
        "id": "STtYQhiVXWC2",
        "outputId": "c3d91215-cbce-4cfa-e506-ab1e6c01656e"
      },
      "source": [
        "# Importing random module\n",
        "import random\n",
        "\n",
        "# Defining list of phrases which will help to build a story\n",
        "\n",
        "Sentence_starter = ['About 100 years ago', ' In the 20 BC', 'Once upon a time']\n",
        "character = [' there lived a king.',' there was a man named Jack.',\n",
        "\t\t\t' there lived a farmer.']\n",
        "time = [' One day', ' One full-moon night']\n",
        "story_plot = [' he was passing by',' he was going for a picnic to ']\n",
        "place = [' the mountains', ' the garden']\n",
        "second_character = [' he saw a man', ' he saw a young lady']\n",
        "age = [' who seemed to be in late 20s', ' who seemed very old and feeble']\n",
        "work = [' searching something.', ' digging a well on roadside.']\n",
        "\n",
        "# Selecting an item from each list and concatenating them.\n",
        "print(random.choice(Sentence_starter)+random.choice(character)+\n",
        "\trandom.choice(time)+random.choice(story_plot) +\n",
        "\trandom.choice(place)+random.choice(second_character)+\n",
        "\trandom.choice(age)+random.choice(work))\n"
      ],
      "execution_count": null,
      "outputs": [
        {
          "output_type": "stream",
          "name": "stdout",
          "text": [
            " In the 20 BC there lived a farmer. One day he was passing by the mountains he saw a man who seemed very old and feeble searching something.\n"
          ]
        }
      ]
    },
    {
      "cell_type": "markdown",
      "metadata": {
        "id": "4be_rD1BZUjp"
      },
      "source": [
        "## Project : \n",
        "### Points: 25\n",
        "In this project, you will build an automatic password generator. \n",
        "<br> Feel free to make it as robust as you can. \n",
        "<br> <br> Follwing describes some of the very basic requirements.\n",
        "\n",
        ">  \n",
        "\n",
        "1.   Ask the user for the length of the password.\n",
        "2.   Then get a random combination of charaters, symbols and numbers. \n",
        "3.   Make sure you have checks in your code to ascertain if a strong pasword is being generated, like the password: \n",
        "> must not start with a number,\n",
        "<br>  must have an uppercase letter,\n",
        "<br>  must be of 8 characters long, \n",
        "<br> must have one special character and so on. \n",
        "\n",
        "4.  If the randomly generated password fails to meet above criteria, keep on generating until successful and then print the desired password.\n",
        "\n",
        "<br> *Hint: May use functions from the string module (ascii_uppercase, ascii_lowercase, digits, punctuation, etc,)  and random module (choice,sample) and definetly input function.*\n",
        "\n",
        "\n",
        "\n",
        "\n"
      ]
    },
    {
      "cell_type": "code",
      "metadata": {
        "id": "P4snlUr5agI7",
        "colab": {
          "base_uri": "https://localhost:8080/"
        },
        "outputId": "217f8b59-5ab0-4ac4-8a44-641c415ffcd6"
      },
      "source": [
        "#Solution\n",
        "#import the necessary modules!\n",
        "import random\n",
        "import string\n",
        "import re\n",
        "\n",
        "print('Hello, Welcome to Password generator!')\n",
        "\n",
        "\n",
        "#define data\n",
        "lower = string.ascii_lowercase\n",
        "upper = string.ascii_uppercase\n",
        "num = string.digits\n",
        "symbols = string.punctuation\n",
        "#string.ascii_letters\n",
        "\n",
        "#combine the data\n",
        "all = lower + upper + num + symbols\n",
        "\n",
        "while True:\n",
        "  \n",
        "\n",
        "  #input the length of password from the user\n",
        "  length = int(input('\\nEnter the length of password: '))                      \n",
        "  if length<8:\n",
        "    print(\"Length should be greater than equal to  than 8\")\n",
        "    continue\n",
        "  else:\n",
        "\n",
        "    #use random \n",
        "    temp = random.sample(all,length)\n",
        "\n",
        "    #create the password \n",
        "    password = \"\".join(temp)# forming a string which is  a random combination of charaters of deisred length\n",
        "    #verify if the passowrd generated is strong \n",
        "    #check if the password has an uppercase character\n",
        "    # Using regex to check for any element to be uppercase\n",
        "    upperchar = bool(re.match(r'\\w*[A-Z]\\w*', password))\n",
        "    print(upperchar)\n",
        "    #check if the password starts with a number\n",
        "    number=password[0].isdigit()#isdigit() inbuilt Python function checks whether a character is a number\n",
        "    print(number)#True or False \n",
        "    #check if the password has a special character\n",
        "    specialchar=any(not c.isalnum() for c in password)\n",
        "    print(specialchar)\n",
        "\n",
        "    \n",
        "    if upperchar and number and specialchar :\n",
        "      print(password)\n",
        "      break\n",
        "    else:\n",
        "      print(passowrd + \" is the passoword generated but not strong enough, let's continue then!\")\n",
        "      continue\n",
        "  "
      ],
      "execution_count": null,
      "outputs": [
        {
          "output_type": "stream",
          "name": "stdout",
          "text": [
            "Hello, Welcome to Password generator!\n",
            "\n",
            "Enter the length of password: 8\n",
            "True\n",
            "True\n",
            "True\n",
            "2mEsx~%T\n"
          ]
        }
      ]
    },
    {
      "cell_type": "markdown",
      "metadata": {
        "id": "kghUzLswbwa2"
      },
      "source": [
        "#**Playing with 'Numbers'**"
      ]
    },
    {
      "cell_type": "markdown",
      "metadata": {
        "id": "AuO2V2Wxb7Do"
      },
      "source": [
        "## Build your own ATM \n",
        "### Points: 25\n",
        "In this project, you will need to create a simple ATM machine that can handle basic transactions like:  \n",
        "\n",
        "1.   check and show balance, \n",
        "\n",
        "2.   withdraw money and show remaining balance,\n",
        "\n",
        "3.   deposit money and show new balance, \n",
        "4.   exit \n",
        "\n",
        "> **Useful Tips:** \n",
        "<br> Ask the user to choose an operation. \n",
        "<br> Options 1, 2, 3, and 4 are valid. If any other input is given, *Invalid Input* is displayed and the loop continues until a valid option is selected.\n",
        "<br> According to the choice given by the user, your code should perform the transactions.\n",
        "<br> You may assign a pre-determined balance for the user to start with. <br> For withdrawal, have checks in your program to allow withdrawal only when the balance is above a certain limit (you decide the limit) but do let the user know why they cannot withdraw and what is their current balance. Also, if the balance is within limit, allow the withdrawal and display a success message along with the remaining balance.\n",
        "<br> For deposit, also set an upper-limit, beyond which ATM deposit will not be allowed and again, display either a success message along with the new balance if deposit is within the limit, or the reason of failure if it is not.\n",
        "\n",
        "<br> *Hint: Use if, elif blocks  and operators like \"+\", \"-\".*"
      ]
    },
    {
      "cell_type": "code",
      "metadata": {
        "id": "hfdZVskqbG5T",
        "colab": {
          "base_uri": "https://localhost:8080/"
        },
        "outputId": "4587e2e2-2bf7-44e9-b5b1-9d44cc152ce3"
      },
      "source": [
        "# Solution: \n",
        "\n",
        "global balance\n",
        "balance = 1000\n",
        "pin=8721\n",
        "print(\"\"\"\n",
        "Welcome to ATM Machine\n",
        "\n",
        "Choose Transaction\n",
        "\n",
        "1)BALANCE\n",
        "2)WITHDRAW\n",
        "3)DEPOSIT\n",
        "4)EXIT\n",
        "\n",
        "\"\"\")\n",
        "\n",
        "\n",
        "def check_balance(balance):\n",
        "   print(\"Your balance is \", balance)\n",
        "\n",
        "def funds_withdraw(balance):\n",
        "    withdraw = float(input(\"Enter amount to withdraw \"))\n",
        "    if(balance > withdraw):\n",
        "        total = balance - withdraw\n",
        "        print(\"success\")\n",
        "        print(\"your new balance is :\",total)\n",
        "    else:\n",
        "        print(\"insufficient Balance\")\n",
        "\n",
        "def funds_deposit(balance):\n",
        "  deposit = float(input(\"Enter amount to deposit \"))\n",
        "  if deposit>100000:\n",
        "    print(\"ATM deposit above 100000 is not allowed.\")\n",
        "    flag=\"continue\"\n",
        "  else:\n",
        "    totalbalance = balance + deposit\n",
        "    print(\"success\")\n",
        "    print(\"total balnace now is: \", totalbalance)\n",
        "    flag=\"\"\n",
        "  return flag\n",
        "\n",
        "userpin = input(\"Enter your pin: \")\n",
        "if userpin==str(pin): \n",
        "  while True:\n",
        "  \n",
        "  \n",
        "  # take input from the user\n",
        "    choice = input(\"Enter transaction choice(1/2/3/4): \")\n",
        "\n",
        "    # check if choice is one of the four options\n",
        "    if choice in ('1', '2', '3', '4'):\n",
        "      \n",
        "\n",
        "            if(choice == '1'):\n",
        "              check_balance(balance)\n",
        "            elif(choice=='2'):\n",
        "              funds_withdraw(balance)\n",
        "              \n",
        "            elif(choice=='3'):\n",
        "              flag=funds_deposit(balance)\n",
        "              if flag==\"continue\":\n",
        "                continue\n",
        "            elif(choice=='4'):\n",
        "                exitchoice=input(\"Are you sure you want to exit? (yes/no)\")\n",
        "                if exitchoice in (\"yes\",\"no\"):\n",
        "                    if exitchoice == \"yes\":\n",
        "                        break\n",
        "                    elif exitchoice == \"no\":\n",
        "                        continue \n",
        "                else: \n",
        "                  print(\"Invalid, Try again\")\n",
        "                  exitchoice=input(\"Are you sure you want to exit? (yes/no)\")\n",
        "            next_transaction=input(\"Do you want to continue?(yes/no):\")\n",
        "            if next_transaction in (\"yes\",\"no\"):\n",
        "              if next_transaction == \"no\":\n",
        "                    break\n",
        "            else: \n",
        "              print(\"Invalid, Try again\")\n",
        "              next_transaction=input(\"Do you want to continue?(yes/no):\")\n",
        "       \n",
        "        \n",
        "    else:\n",
        "      print(\"Invalid transaction\")\n",
        "      \n",
        "  else:\n",
        "          print(\"Incorrect pin, Exiting, Start again!\")\n",
        "          \n"
      ],
      "execution_count": null,
      "outputs": [
        {
          "name": "stdout",
          "output_type": "stream",
          "text": [
            "\n",
            "Welcome to ATM Machine\n",
            "\n",
            "Choose Transaction\n",
            "\n",
            "1)BALANCE\n",
            "2)WITHDRAW\n",
            "3)DEPOSIT\n",
            "4)EXIT\n",
            "\n",
            "\n",
            "Enter your pin: 8721\n",
            "Enter transaction choice(1/2/3/4): 1\n",
            "Your balance is  1000\n",
            "Do you want to continue?(yes/no):yes\n",
            "Enter transaction choice(1/2/3/4): 2\n",
            "Enter amount to withdraw 333\n",
            "success\n",
            "your new balance is : 667.0\n",
            "Do you want to continue?(yes/no):yes\n",
            "Enter transaction choice(1/2/3/4): 12333\n",
            "Invalid transaction\n",
            "Enter transaction choice(1/2/3/4): 2\n",
            "Enter amount to withdraw 23333\n",
            "insufficient Balance\n",
            "Do you want to continue?(yes/no):yes\n",
            "Enter transaction choice(1/2/3/4): 3\n",
            "Enter amount to deposit 100000000\n",
            "ATM deposit above 100000 is not allowed.\n",
            "Enter transaction choice(1/2/3/4): 3\n",
            "Enter amount to deposit 222\n",
            "success\n",
            "total balnace now is:  1222.0\n",
            "Do you want to continue?(yes/no):yes\n",
            "Enter transaction choice(1/2/3/4): 4\n",
            "Are you sure you want to exit? (yes/no)no\n",
            "Enter transaction choice(1/2/3/4): 4\n",
            "Are you sure you want to exit? (yes/no)yes\n"
          ]
        }
      ]
    },
    {
      "cell_type": "markdown",
      "metadata": {
        "id": "bonjjapibhrp"
      },
      "source": [
        "## Project: Design your own Calculator!\n",
        "### Points: 25\n",
        "In this project, you will need to create a simple calculator that can add, subtract, multiply or divide depending upon the input from the user.\n",
        "\n",
        "> **Useful Tips:**\n",
        "<br> Ask the user to choose an operation. \n",
        "<br> Options 1, 2, 3, and 4 are valid. If any other input is given, Invalid Input is displayed and the loop continues until a valid option is selected.\n",
        "<br> Two numbers are taken and an if...elif...else branching is used to execute a particular section.\n",
        "<br> Create user-defined functions: add(), subtract(), multiply() and divide() and evaluate respective operations and then, display the output.\n",
        "<br> Continue the transactions until the user chooses to exit. You may add *exit* as one of the options. "
      ]
    },
    {
      "cell_type": "code",
      "metadata": {
        "id": "l50NO4sVbW0s",
        "colab": {
          "base_uri": "https://localhost:8080/"
        },
        "outputId": "e8dca264-8c84-4ae5-ac03-819f48c8fa5f"
      },
      "source": [
        "# Solution: Calculator\n",
        "\n",
        "# This function adds two numbers\n",
        "def add(x, y):\n",
        "    return x + y\n",
        "\n",
        "# This function subtracts two numbers\n",
        "def subtract(x, y):\n",
        "    return x - y\n",
        "\n",
        "# This function multiplies two numbers\n",
        "def multiply(x, y):\n",
        "    return x * y\n",
        "\n",
        "# This function divides two numbers\n",
        "def divide(x, y):\n",
        "    return x / y\n",
        "\n",
        "\n",
        "print(\"Select operation.\")\n",
        "print(\"1.Add\")\n",
        "print(\"2.Subtract\")\n",
        "print(\"3.Multiply\")\n",
        "print(\"4.Divide\")\n",
        "\n",
        "while True:\n",
        "    # take input from the user\n",
        "    choice = input(\"Enter choice(1/2/3/4): \")\n",
        "\n",
        "    # check if choice is one of the four options\n",
        "    if choice in ('1', '2', '3', '4'):\n",
        "        num1 = float(input(\"Enter first number: \"))\n",
        "        num2 = float(input(\"Enter second number: \"))\n",
        "\n",
        "        if choice == '1':\n",
        "            print(num1, \"+\", num2, \"=\", add(num1, num2))\n",
        "\n",
        "        elif choice == '2':\n",
        "            print(num1, \"-\", num2, \"=\", subtract(num1, num2))\n",
        "\n",
        "        elif choice == '3':\n",
        "            print(num1, \"*\", num2, \"=\", multiply(num1, num2))\n",
        "       \n",
        "        elif choice == '4':\n",
        "            try:\n",
        "              print(num1, \"/\", num2, \"=\", divide(num1, num2))\n",
        "            except(ZeroDivisionError):\n",
        "              print(\"You cannot divide anything by zero and expect a valid output\")\n",
        "              continue\n",
        "        \n",
        "        \n",
        "        # check if user wants another calculation\n",
        "        # break the while loop if answer is no\n",
        "        next_calculation = input(\"Let's do next calculation? (yes/no): \")\n",
        "        if next_calculation == \"no\":\n",
        "          break\n",
        "    \n",
        "    else:\n",
        "        print(\"Invalid Input\")"
      ],
      "execution_count": null,
      "outputs": [
        {
          "name": "stdout",
          "output_type": "stream",
          "text": [
            "Select operation.\n",
            "1.Add\n",
            "2.Subtract\n",
            "3.Multiply\n",
            "4.Divide\n",
            "Enter choice(1/2/3/4): 1\n",
            "Enter first number: 12\n",
            "Enter second number: 12\n",
            "12.0 + 12.0 = 24.0\n",
            "Let's do next calculation? (yes/no): yes\n",
            "Enter choice(1/2/3/4): 2\n",
            "Enter first number: 34\n",
            "Enter second number: 21\n",
            "34.0 - 21.0 = 13.0\n",
            "Let's do next calculation? (yes/no): yes\n",
            "Enter choice(1/2/3/4): 3\n",
            "Enter first number: 24\n",
            "Enter second number: 21\n",
            "24.0 * 21.0 = 504.0\n",
            "Let's do next calculation? (yes/no): yes\n",
            "Enter choice(1/2/3/4): 32\n",
            "Invalid Input\n",
            "Enter choice(1/2/3/4): 0\n",
            "Invalid Input\n",
            "Enter choice(1/2/3/4): 4\n",
            "Enter first number: 32\n",
            "Enter second number: 0\n",
            "You cannot divide anything by zero and expect a valid output\n",
            "Enter choice(1/2/3/4): 4\n",
            "Enter first number: 2\n",
            "Enter second number: 3\n",
            "2.0 / 3.0 = 0.6666666666666666\n",
            "Let's do next calculation? (yes/no): yes\n",
            "Enter choice(1/2/3/4): 4\n",
            "Enter first number: 32\n",
            "Enter second number: 8\n",
            "32.0 / 8.0 = 4.0\n",
            "Let's do next calculation? (yes/no): no\n"
          ]
        }
      ]
    }
  ]
}
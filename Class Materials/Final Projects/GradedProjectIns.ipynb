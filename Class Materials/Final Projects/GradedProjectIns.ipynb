{
  "nbformat": 4,
  "nbformat_minor": 0,
  "metadata": {
    "colab": {
      "name": "GradedProjectIns",
      "provenance": [],
      "collapsed_sections": []
    },
    "kernelspec": {
      "name": "python3",
      "display_name": "Python 3"
    },
    "language_info": {
      "name": "python"
    }
  },
  "cells": [
    {
      "cell_type": "markdown",
      "metadata": {
        "id": "99dznU_cx8k3"
      },
      "source": [
        "# **Graded Project Assingments**\n",
        "### Class: *Python Intro for Business* \n",
        "### Location: Online (for UTEP COBA, initative by Fab Lab El Paso)\n",
        "### Semester: Fall 2021\n",
        "### Author/Instructor: Anindita Nath (anath@miners.utep.edu)\n",
        "### TA: Elena G Valenzuela (egvalenzuela@miners.utep.edu)\n",
        "### Date: 11.22.2021\n"
      ]
    },
    {
      "cell_type": "markdown",
      "metadata": {
        "id": "y2q0Vwgpv5GG"
      },
      "source": [
        "# **Instructions**\n",
        "> You need to do 2 projects.\n",
        "Select 1 project from each section: \n",
        "> <br> **Playing with 'Strings'**\n",
        "<br>**Playing With 'Numbers'**\n",
        "<br><br>Total points: 50\n",
        "<br> Extra Credit Possible: 50 (when you do all 4!)\n",
        "<br> Extra Extra credit: 50\n",
        "<br><br> Due date: **Dec 1st, 7:15 pm MST**\n",
        "\n",
        "### Submission Tips: \n",
        "> \n",
        "\n",
        "1.   Submit through email (private) or TEAMS chat (remember this is not private, others can view your code)\n",
        "2.   Write your full name on the file (rename the code file with your name and also change the author and date in the credentials section).\n",
        "\n",
        "3.   You can save a copy of this file in Google Drive and open it in Google Colab, edit the file with your own code and once done, share with the instructor editable link to your Google file (.ipynb).\n",
        "4.   Alternatively, you can also download the file as .ipynb or .py and edit it with any Python IDEs. And then submit your edited file (with your full name on it) as .ipynb or .py.\n"
      ]
    },
    {
      "cell_type": "markdown",
      "metadata": {
        "id": "3PRK9K8BWJLK"
      },
      "source": [
        "# **Playing with 'Strings'**"
      ]
    },
    {
      "cell_type": "markdown",
      "metadata": {
        "id": "4tiXoMAnWUm1"
      },
      "source": [
        "## Project: Tell A Story\n",
        "### Points: 25\n",
        "<br> This is a very interesting beginner-level project of Python. It is a random story generator. \n",
        "<br> The random story generator project aims to generate random stories every time an user executes the code. \n",
        "<br>A story is made up of a collection of sentences. You will first have to choose random phrases to build sentences, and hence stories. \n",
        "<br><br> **Useful Tips:**\n",
        "\n",
        "> First, put the elements of the story in different lists.\n",
        "<br> Next, use the random module to select random parts of the story collected in different lists.\n",
        "<br> And then concatenate these lists to make a story.\n",
        "\n",
        "*There a many different ways of accomplishing the purpose of this project, the above shows one of the very basic approaches.*\n",
        "\n",
        "<br> *Hint: Use random.choice() function.* "
      ]
    },
    {
      "cell_type": "code",
      "metadata": {
        "id": "STtYQhiVXWC2",
        "colab": {
          "base_uri": "https://localhost:8080/"
        },
        "outputId": "da7d513c-18ec-4df5-e128-7a519f060033"
      },
      "source": [
        "# Importing  module\n",
        "\n",
        "import random\n",
        "# Defining list of phrases which will help to build a story\n",
        "# Your code goes here\n",
        "character=[\"Tom Cat\",\"Jerry Mouse\",\"Mickey Mouse\",\"Donald Duck\"]\n",
        "action=[\" is eating\",\" is chasing\", \" is playing\",\" is drowning\"]\n",
        "objectlist=[\" banana.\",\" insects.\",\" baseball.\",\" in the river.\"]\n",
        "\n",
        "# Selecting an item randomly from each list and concatenating them.\n",
        "#Your code goes here\n",
        "print(random.choice(character)+random.choice(action) + random.choice(objectlist))\n"
      ],
      "execution_count": null,
      "outputs": [
        {
          "output_type": "stream",
          "name": "stdout",
          "text": [
            "Mickey Mouse is chasing insects.\n"
          ]
        }
      ]
    },
    {
      "cell_type": "markdown",
      "metadata": {
        "id": "4be_rD1BZUjp"
      },
      "source": [
        "## Project : Generate Password\n",
        "### Points: 25\n",
        "In this project, you will build an automatic password generator. \n",
        "<br> Feel free to make it as robust as you can. \n",
        "<br> <br> Follwing describes some of the very basic requirements.\n",
        "\n",
        ">  \n",
        "\n",
        "1.   Ask the user for the length of the password.\n",
        "2.   Then get a random combination of charaters, symbols and numbers. \n",
        "3.   Make sure you have checks in your code to ascertain if a strong pasword is being generated, like the password: \n",
        "> must not start with a number,\n",
        "<br>  must have an uppercase letter,\n",
        "<br>  must be of 8 characters long, \n",
        "<br> must have one special character and so on. \n",
        "\n",
        "4.  If the randomly generated password fails to meet above criteria, keep on generating until successful and then print the desired password.\n",
        "\n",
        "<br> *Hint: May use functions from the string module (ascii_uppercase, ascii_lowercase, digits, punctuation, etc,)  and random module (choice,sample) and definetly input function.*\n",
        "\n",
        "\n",
        "\n",
        "\n"
      ]
    },
    {
      "cell_type": "code",
      "metadata": {
        "id": "P4snlUr5agI7"
      },
      "source": [
        "#import the necessary modules!\n",
        "# Your code goes here\n",
        "\n",
        "\n",
        "#input the length of password from the user\n",
        "# Your code goes here              \n",
        "\n",
        "#define data\n",
        "# Your code goes here\n",
        "\n",
        "#combine the data\n",
        "# Your code goes here\n",
        "\n",
        "#use random \n",
        "# Your code goes here\n",
        "\n",
        "#create the password \n",
        "# Your code goes here\n",
        "#print the password\n",
        "# Your code goes here"
      ],
      "execution_count": null,
      "outputs": []
    },
    {
      "cell_type": "markdown",
      "metadata": {
        "id": "kghUzLswbwa2"
      },
      "source": [
        "#**Playing with 'Numbers'**"
      ]
    },
    {
      "cell_type": "markdown",
      "metadata": {
        "id": "AuO2V2Wxb7Do"
      },
      "source": [
        "## Project: Build your own ATM \n",
        "### Points: 25\n",
        "In this project, you will need to create a simple ATM machine that can handle basic transactions like:  \n",
        "\n",
        "1.   check and show balance, \n",
        "\n",
        "2.   withdraw money and show remaining balance,\n",
        "\n",
        "3.   deposit money and show new balance, \n",
        "4.   exit \n",
        "\n",
        "> **Useful Tips:** \n",
        "<br> Ask the user to choose an operation. \n",
        "<br> Options 1, 2, 3, and 4 are valid. If any other input is given, *Invalid Input* is displayed and the loop continues until a valid option is selected.\n",
        "<br> According to the choice given by the user, your code should perform the transactions.\n",
        "<br> You may assign a pre-determined balance for the user to start with. <br> For withdrawal, have checks in your program to allow withdrawal only when the balance is above a certain limit (you decide the limit) but do let the user know why they cannot withdraw and what is their current balance. Also, if the balance is within limit, allow the withdrawal and display a success message along with the remaining balance.\n",
        "<br> For deposit, also set an upper-limit, beyond which ATM deposit will not be allowed and again, display either a success message along with the new balance if deposit is within the limit, or the reason of failure if it is not.\n",
        "\n",
        "<br> *Hint: Use if, elif blocks  and operators like \"+\", \"-\".*"
      ]
    },
    {
      "cell_type": "code",
      "metadata": {
        "id": "ZngqMFFEEAX-"
      },
      "source": [
        "# Define functions for each transaction\n",
        "#Following function handles the first menu transaction, which is displays current balance\n",
        "def checkbalance(curr_balance):\n",
        "  print(\"Your current balance is:\" + str(curr_balance))"
      ],
      "execution_count": null,
      "outputs": []
    },
    {
      "cell_type": "code",
      "metadata": {
        "id": "hfdZVskqbG5T",
        "colab": {
          "base_uri": "https://localhost:8080/"
        },
        "outputId": "ae587161-3de7-402a-ccc8-1267e15aa82c"
      },
      "source": [
        "# Solution: \n",
        "# Your code goes here\n",
        "# declare a global variable to store the curent balance\n",
        "global curr_balance \n",
        "curr_balance= 100000 \n",
        "# Display the name and menu of the bank's ATM \n",
        "print(\"\"\"\n",
        "Welcome to Fab Lab Bank!\n",
        "\n",
        "What would you like to do?\n",
        "1. Check Balance\n",
        "2. Withdraw\n",
        "3. Deposit\n",
        "4. Exit\n",
        "\"\"\")\n",
        "\n",
        "\n",
        "userchoice=int(input(\"Enter the sl. no. of transaction you want to perform:\"))\n",
        "\n",
        "if userchoice==1:\n",
        "  checkbalance(curr_balance)\n",
        "else:\n",
        "  print(\"Invalid option\")\n",
        "\n",
        "\n"
      ],
      "execution_count": null,
      "outputs": [
        {
          "output_type": "stream",
          "name": "stdout",
          "text": [
            "\n",
            "Welcome to Fab Lab Bank!\n",
            "\n",
            "What would you like to do?\n",
            "1. Check Balance\n",
            "2. Withdraw\n",
            "3. Deposit\n",
            "4. Exit\n",
            "\n",
            "Enter the sl. no. of transaction you want to perform:1\n",
            "Your current balance is:100000\n"
          ]
        }
      ]
    },
    {
      "cell_type": "markdown",
      "metadata": {
        "id": "bonjjapibhrp"
      },
      "source": [
        "## Project: Design your own Calculator!\n",
        "### Points: 25\n",
        "In this project, you will need to create a simple calculator that can add, subtract, multiply or divide depending upon the input from the user.\n",
        "\n",
        "> **Useful Tips:**\n",
        "<br> Ask the user to choose an operation. \n",
        "<br> Options 1, 2, 3, and 4 are valid. If any other input is given, Invalid Input is displayed and the loop continues until a valid option is selected.\n",
        "<br> Two numbers are taken and an if...elif...else branching is used to execute a particular section.\n",
        "<br> Create user-defined functions: add(), subtract(), multiply() and divide() and evaluate respective operations and then, display the output.\n",
        "<br> Continue the transactions until the user chooses to exit. You may add *exit* as one of the options. "
      ]
    },
    {
      "cell_type": "code",
      "metadata": {
        "id": "l50NO4sVbW0s"
      },
      "source": [
        "# Solution: Calculator\n",
        "\n",
        "# This function adds two numbers\n",
        "# Define the function add()\n",
        "\n",
        "# This function subtracts two numbers\n",
        "# Define the function subtract()\n",
        "\n",
        "# This function multiplies two numbers\n",
        "# Define the function multiply()\n",
        "\n",
        "# This function divides two numbers\n",
        "# Define the function divide()\n",
        "\n",
        "\n",
        "# Display the menu\n",
        "# Your code goes here\n",
        "\n",
        "while True:\n",
        "    # take input from the user\n",
        "    # Your code goes here\n",
        "\n",
        "    # check if choice is one of the four options\n",
        "    # Your code goes here\n",
        "    # Call the relevant function according to the input choice\n",
        "    # Your code goes here   \n",
        "        \n",
        "        # check if user wants another calculation\n",
        "        # break the while loop if answer is no\n",
        "        # Your code goes here\n",
        "    \n",
        "   # if the above doesn't happen correctly, display an error message"
      ],
      "execution_count": null,
      "outputs": []
    },
    {
      "cell_type": "markdown",
      "metadata": {
        "id": "A2vGgV4ksl0r"
      },
      "source": [
        "# Extra-Extra Credit Project\n",
        "## Points: 50\n",
        "<br> Create a GUI Calculator Application.\n",
        "<br> *Hint: Use *Tkinter**"
      ]
    }
  ]
}